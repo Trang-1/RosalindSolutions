{
 "cells": [
  {
   "cell_type": "markdown",
   "metadata": {},
   "source": [
    "Problem\n",
    "Either strand of a DNA double helix can serve as the coding strand for RNA transcription. Hence, a given DNA string implies six total reading frames, or ways in which the same region of DNA can be translated into amino acids: three reading frames result from reading the string itself, whereas three more result from reading its reverse complement.\n",
    "\n",
    "An open reading frame (ORF) is one which starts from the start codon and ends by stop codon, without any other stop codons in between. Thus, a candidate protein string is derived by translating an open reading frame into amino acids until a stop codon is reached.\n",
    "\n",
    "Given: A DNA string s\n",
    " of length at most 1 kbp in FASTA format.\n",
    "\n",
    "Return: Every distinct candidate protein string that can be translated from ORFs of s\n",
    ". Strings can be returned in any order."
   ]
  },
  {
   "cell_type": "code",
   "execution_count": 2,
   "metadata": {},
   "outputs": [],
   "source": [
    "sample = 'AGCCATGTAGCTAACTCAGGTTACATGGGGATGACCCCGCGACTTGGATTAGAGTCTCTTTTGGAATAAGCCTGAATGATCCGAGTAGCATCTCAG'"
   ]
  },
  {
   "cell_type": "code",
   "execution_count": 3,
   "metadata": {},
   "outputs": [],
   "source": [
    "def orf_finder(sample):\n",
    "    def trans(dna):\n",
    "        return dna.replace('T', 'U')    # Translate DNA to RNA\n",
    "    code = {\n",
    "        'UUU': 'F', 'CUU': 'L', 'AUU': 'I', 'GUU': 'V',\n",
    "        'UUC': 'F', 'CUC': 'L', 'AUC': 'I', 'GUC': 'V',\n",
    "        'UUA': 'L', 'CUA': 'L', 'AUA': 'I', 'GUA': 'V',\n",
    "        'UUG': 'L', 'CUG': 'L', 'AUG': 'M', 'GUG': 'V',\n",
    "        'UCU': 'S', 'CCU': 'P', 'ACU': 'T', 'GCU': 'A',\n",
    "        'UCC': 'S', 'CCC': 'P', 'ACC': 'T', 'GCC': 'A',\n",
    "        'UCA': 'S', 'CCA': 'P', 'ACA': 'T', 'GCA': 'A',\n",
    "        'UCG': 'S', 'CCG': 'P', 'ACG': 'T', 'GCG': 'A',\n",
    "        'UAU': 'Y', 'CAU': 'H', 'AAU': 'N', 'GAU': 'D',\n",
    "        'UAC': 'Y', 'CAC': 'H', 'AAC': 'N', 'GAC': 'D',\n",
    "        'UAA': 'Stop', 'CAA': 'Q', 'AAA': 'K', 'GAA': 'E',\n",
    "        'UAG': 'Stop', 'CAG': 'Q', 'AAG': 'K', 'GAG': 'E',\n",
    "        'UGU': 'C', 'CGU': 'R', 'AGU': 'S', 'GGU': 'G',\n",
    "        'UGC': 'C', 'CGC': 'R', 'AGC': 'S', 'GGC': 'G',\n",
    "        'UGA': 'Stop', 'CGA': 'R', 'AGA': 'R', 'GGA': 'G',\n",
    "        'UGG': 'W', 'CGG': 'R', 'AGG': 'R', 'GGG': 'G'}\n",
    "    rna = trans(sample)\n",
    "    start_positions = []\n",
    "    index = 0\n",
    "    while index < len(rna):\n",
    "        index = rna.find('AUG', index)\n",
    "        if index != -1:\n",
    "            start_positions.append(index)\n",
    "            index += 1  \n",
    "        else:\n",
    "            break\n",
    "        \n",
    "    proteins = []\n",
    "    for start in start_positions:\n",
    "        protein = []\n",
    "        count = start\n",
    "        while count < len(rna):\n",
    "            codon = rna[count:count + 3]\n",
    "            amino_acid = code.get(codon, None)\n",
    "            if amino_acid == 'Stop':\n",
    "                break\n",
    "            if amino_acid:  \n",
    "                protein.append(amino_acid)\n",
    "                count += 3\n",
    "        proteins.append(''.join(protein))\n",
    "\n",
    "    return proteins\n"
   ]
  },
  {
   "cell_type": "code",
   "execution_count": null,
   "metadata": {},
   "outputs": [],
   "source": []
  }
 ],
 "metadata": {
  "kernelspec": {
   "display_name": "Python 3",
   "language": "python",
   "name": "python3"
  },
  "language_info": {
   "codemirror_mode": {
    "name": "ipython",
    "version": 3
   },
   "file_extension": ".py",
   "mimetype": "text/x-python",
   "name": "python",
   "nbconvert_exporter": "python",
   "pygments_lexer": "ipython3",
   "version": "3.11.5"
  }
 },
 "nbformat": 4,
 "nbformat_minor": 2
}
