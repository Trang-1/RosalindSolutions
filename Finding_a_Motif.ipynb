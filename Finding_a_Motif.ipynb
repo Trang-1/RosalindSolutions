{
 "cells": [
  {
   "cell_type": "markdown",
   "metadata": {},
   "source": [
    "Problem\n",
    "A common substring of a collection of strings is a substring of every member of the collection. We say that a common substring is a longest common substring if there does not exist a longer common substring. For example, \"CG\" is a common substring of \"ACGTACGT\" and \"AACCGTATA\", but it is not as long as possible; in this case, \"CGTA\" is a longest common substring of \"ACGTACGT\" and \"AACCGTATA\".\n",
    "\n",
    "Note that the longest common substring is not necessarily unique; for a simple example, \"AA\" and \"CC\" are both longest common substrings of \"AACC\" and \"CCAA\".\n",
    "\n",
    "Given: A collection of k\n",
    " (k≤100\n",
    ") DNA strings of length at most 1 kbp each in FASTA format.\n",
    "\n",
    "Return: A longest common substring of the collection. (If multiple solutions exist, you may return any single solution.)"
   ]
  },
  {
   "cell_type": "code",
   "execution_count": 1,
   "metadata": {},
   "outputs": [
    {
     "name": "stdout",
     "output_type": "stream",
     "text": [
      "2\n",
      "4\n",
      "10\n"
     ]
    }
   ],
   "source": [
    "seq1 = 'GATATATGCATATACTT'\n",
    "seq2 = 'ATAT'\n",
    "\n",
    "index = 0\n",
    "while index <= len(seq1) - len(seq2):\n",
    "    if seq1[index:index + len(seq2)] == seq2:\n",
    "        print(index+1)\n",
    "    index += 1\n"
   ]
  },
  {
   "cell_type": "code",
   "execution_count": null,
   "metadata": {},
   "outputs": [],
   "source": []
  }
 ],
 "metadata": {
  "kernelspec": {
   "display_name": "Python 3",
   "language": "python",
   "name": "python3"
  },
  "language_info": {
   "codemirror_mode": {
    "name": "ipython",
    "version": 3
   },
   "file_extension": ".py",
   "mimetype": "text/x-python",
   "name": "python",
   "nbconvert_exporter": "python",
   "pygments_lexer": "ipython3",
   "version": "3.11.5"
  }
 },
 "nbformat": 4,
 "nbformat_minor": 2
}
