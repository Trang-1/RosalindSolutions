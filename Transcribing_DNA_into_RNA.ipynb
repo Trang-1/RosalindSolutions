{
 "cells": [
  {
   "cell_type": "markdown",
   "metadata": {},
   "source": [
    "## Transcribing DNA into RNA"
   ]
  },
  {
   "cell_type": "markdown",
   "metadata": {},
   "source": [
    "Problem\n",
    "An RNA string is a string formed from the alphabet containing 'A', 'C', 'G', and 'U'.\n",
    "\n",
    "Given a DNA string t\n",
    " corresponding to a coding strand, its transcribed RNA string u\n",
    " is formed by replacing all occurrences of 'T' in t\n",
    " with 'U' in u\n",
    ".\n",
    "\n",
    "Given: A DNA string t\n",
    " having length at most 1000 nt.\n",
    "\n",
    "Return: The transcribed RNA string of t\n",
    "."
   ]
  },
  {
   "cell_type": "code",
   "execution_count": 5,
   "metadata": {},
   "outputs": [
    {
     "name": "stdout",
     "output_type": "stream",
     "text": [
      "GAUGGAACUUGACUACGUAAAUU\n"
     ]
    }
   ],
   "source": [
    "sample = 'GATGGAACTTGACTACGTAAATT'\n",
    "\n",
    "def trans(sample):\n",
    "    return sample.replace('T', 'U')\n",
    "\n",
    "print(trans(sample))"
   ]
  }
 ],
 "metadata": {
  "kernelspec": {
   "display_name": "Python 3",
   "language": "python",
   "name": "python3"
  },
  "language_info": {
   "codemirror_mode": {
    "name": "ipython",
    "version": 3
   },
   "file_extension": ".py",
   "mimetype": "text/x-python",
   "name": "python",
   "nbconvert_exporter": "python",
   "pygments_lexer": "ipython3",
   "version": "3.11.5"
  }
 },
 "nbformat": 4,
 "nbformat_minor": 2
}
