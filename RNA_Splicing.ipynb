{
 "cells": [
  {
   "cell_type": "markdown",
   "metadata": {},
   "source": [
    "After identifying the exons and introns of an RNA string, we only need to delete the introns and concatenate the exons to form a new string ready for translation.\n",
    "\n",
    "Given: A DNA string s\n",
    " (of length at most 1 kbp) and a collection of substrings of s\n",
    " acting as introns. All strings are given in FASTA format.\n",
    "\n",
    "Return: A protein string resulting from transcribing and translating the exons of s\n",
    ". (Note: Only one solution will exist for the dataset provided.)"
   ]
  },
  {
   "cell_type": "code",
   "execution_count": 1,
   "metadata": {},
   "outputs": [
    {
     "name": "stdout",
     "output_type": "stream",
     "text": [
      "DNA sequence after intron remove: ATGGTCTACATAGCTGACAAACAGCACGTAGCATCTCGAGAGGCATATGGTCACATGTTCAAAGTTTGCGCCTAG\n",
      "Processed RNA sequence: AUGGUCUACAUAGCUGACAAACAGCACGUAGCAUCUCGAGAGGCAUAUGGUCACAUGUUCAAAGUUUGCGCCUAG\n",
      "Protein sequences: MVYIADKQHVASREAYGHMFKVCA\n"
     ]
    }
   ],
   "source": [
    "seq = 'ATGGTCTACATAGCTGACAAACAGCACGTAGCAATCGGTCGAATCTCGAGAGGCATATGGTCACATGATCGGTCGAGCGTGTTTCAAAGTTTGCGCCTAG'\n",
    "\n",
    "intron_1 = 'ATCGGTCGAA'\n",
    "intron_2 = 'ATCGGTCGAGCGTGT'\n",
    "\n",
    "#remove introns\n",
    "for i in [intron_1, intron_2]:\n",
    "    seq = seq.replace(i, '')\n",
    "\n",
    "# Translate DNA to RNA\n",
    "def trans(seq):\n",
    "    return seq.replace('T', 'U')\n",
    "\n",
    "# Dictionary\n",
    "code = {\n",
    "    'UUU': 'F', 'CUU': 'L', 'AUU': 'I', 'GUU': 'V',\n",
    "    'UUC': 'F', 'CUC': 'L', 'AUC': 'I', 'GUC': 'V',\n",
    "    'UUA': 'L', 'CUA': 'L', 'AUA': 'I', 'GUA': 'V',\n",
    "    'UUG': 'L', 'CUG': 'L', 'AUG': 'M', 'GUG': 'V',\n",
    "    'UCU': 'S', 'CCU': 'P', 'ACU': 'T', 'GCU': 'A',\n",
    "    'UCC': 'S', 'CCC': 'P', 'ACC': 'T', 'GCC': 'A',\n",
    "    'UCA': 'S', 'CCA': 'P', 'ACA': 'T', 'GCA': 'A',\n",
    "    'UCG': 'S', 'CCG': 'P', 'ACG': 'T', 'GCG': 'A',\n",
    "    'UAU': 'Y', 'CAU': 'H', 'AAU': 'N', 'GAU': 'D',\n",
    "    'UAC': 'Y', 'CAC': 'H', 'AAC': 'N', 'GAC': 'D',\n",
    "    'UAA': 'Stop', 'CAA': 'Q', 'AAA': 'K', 'GAA': 'E',\n",
    "    'UAG': 'Stop', 'CAG': 'Q', 'AAG': 'K', 'GAG': 'E',\n",
    "    'UGU': 'C', 'CGU': 'R', 'AGU': 'S', 'GGU': 'G',\n",
    "    'UGC': 'C', 'CGC': 'R', 'AGC': 'S', 'GGC': 'G',\n",
    "    'UGA': 'Stop', 'CGA': 'R', 'AGA': 'R', 'GGA': 'G',\n",
    "    'UGG': 'W', 'CGG': 'R', 'AGG': 'R', 'GGG': 'G'}\n",
    "\n",
    "rna = trans(seq)\n",
    "\n",
    "# Translate RNA into a protein sequence\n",
    "protein = []\n",
    "count = 0\n",
    "\n",
    "while count < len(rna):\n",
    "    codon = rna[count:count + 3]\n",
    "    if len(codon) < 3:\n",
    "        break\n",
    "    amino_acid = code.get(codon, None)\n",
    "    if amino_acid == 'Stop':\n",
    "        break\n",
    "    if amino_acid:\n",
    "        protein.append(amino_acid)\n",
    "    count += 3\n",
    "\n",
    "protein = ''.join(protein)\n",
    "\n",
    "# Print outputs\n",
    "print(\"DNA sequence after intron remove:\", seq)\n",
    "print(\"Processed RNA sequence:\", rna)\n",
    "print(\"Protein sequences:\", protein)"
   ]
  },
  {
   "cell_type": "code",
   "execution_count": null,
   "metadata": {},
   "outputs": [],
   "source": []
  }
 ],
 "metadata": {
  "kernelspec": {
   "display_name": "Python 3",
   "language": "python",
   "name": "python3"
  },
  "language_info": {
   "codemirror_mode": {
    "name": "ipython",
    "version": 3
   },
   "file_extension": ".py",
   "mimetype": "text/x-python",
   "name": "python",
   "nbconvert_exporter": "python",
   "pygments_lexer": "ipython3",
   "version": "3.11.5"
  }
 },
 "nbformat": 4,
 "nbformat_minor": 2
}
