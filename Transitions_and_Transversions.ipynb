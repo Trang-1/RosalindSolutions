{
 "cells": [
  {
   "cell_type": "markdown",
   "metadata": {},
   "source": [
    "Problem\n",
    "For DNA strings s1\n",
    " and s2\n",
    " having the same length, their transition/transversion ratio R(s1,s2)\n",
    " is the ratio of the total number of transitions to the total number of transversions, where symbol substitutions are inferred from mismatched corresponding symbols as when calculating Hamming distance (see “Counting Point Mutations”).\n",
    "\n",
    "Given: Two DNA strings s1\n",
    " and s2\n",
    " of equal length (at most 1 kbp).\n",
    "\n",
    "Return: The transition/transversion ratio R(s1,s2)\n"
   ]
  },
  {
   "cell_type": "code",
   "execution_count": 1,
   "metadata": {},
   "outputs": [
    {
     "name": "stdout",
     "output_type": "stream",
     "text": [
      "1.2142857142857142\n"
     ]
    }
   ],
   "source": [
    "s1= 'GCAACGCACAACGAAAACCCTTAGGGACTGGATTATTTCGTGATCGTTGTAGTTATTGGAAGTACGGGCATCAACCCAGTT'\n",
    "s2= 'TTATCTGACAAAGAAAGCCGTCAACGGCTGGATAATTTCGCGATCGTGCTGGTTACTGGCGGTACGAGTGTTCCTTTGGGT'\n",
    "\n",
    "\n",
    "def tran(s1,s2):\n",
    "    transversion = 0\n",
    "    transition = 0\n",
    "    for i in range(len(s1)):\n",
    "        if s1[i] != s2[i]:\n",
    "            if s1[i] in 'AG' and s2[i] in 'AG' or s1[i] in 'CT' and s2[i] in 'CT':\n",
    "                transition += 1\n",
    "            else:\n",
    "                transversion += 1\n",
    "    return transition/transversion\n",
    "\n",
    "print(tran(s1,s2))"
   ]
  },
  {
   "cell_type": "code",
   "execution_count": null,
   "metadata": {},
   "outputs": [],
   "source": []
  }
 ],
 "metadata": {
  "kernelspec": {
   "display_name": "Python 3",
   "language": "python",
   "name": "python3"
  },
  "language_info": {
   "codemirror_mode": {
    "name": "ipython",
    "version": 3
   },
   "file_extension": ".py",
   "mimetype": "text/x-python",
   "name": "python",
   "nbconvert_exporter": "python",
   "pygments_lexer": "ipython3",
   "version": "3.11.5"
  }
 },
 "nbformat": 4,
 "nbformat_minor": 2
}
