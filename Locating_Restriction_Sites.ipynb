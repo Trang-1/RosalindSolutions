{
 "cells": [
  {
   "cell_type": "markdown",
   "metadata": {},
   "source": [
    "Problem\n",
    "\n",
    "Figure 2. Palindromic recognition site\n",
    "A DNA string is a reverse palindrome if it is equal to its reverse complement. For instance, GCATGC is a reverse palindrome because its reverse complement is GCATGC. See Figure 2.\n",
    "\n",
    "Given: A DNA string of length at most 1 kbp in FASTA format.\n",
    "\n",
    "Return: The position and length of every reverse palindrome in the string having length between 4 and 12. You may return these pairs in any order."
   ]
  },
  {
   "cell_type": "code",
   "execution_count": 1,
   "metadata": {},
   "outputs": [
    {
     "name": "stdout",
     "output_type": "stream",
     "text": [
      "4 6\n",
      "5 4\n",
      "6 6\n",
      "7 4\n",
      "17 4\n",
      "18 4\n",
      "20 6\n",
      "21 4\n"
     ]
    }
   ],
   "source": [
    "def restriction(DNA):\n",
    "    Result = []\n",
    "    complement = str.maketrans('ATCG', 'TAGC')  # Translation table for complement DNA strand\n",
    "\n",
    "    for nuc in range(len(DNA) - 3):  # Ensure we check all substrings of min length 4\n",
    "        for length in range(4, 13):  # Palindromic lengths from 4 to 12\n",
    "            if nuc + length > len(DNA):\n",
    "                break\n",
    "\n",
    "            sub_seq = DNA[nuc:nuc+length]\n",
    "            reverse = sub_seq.translate(complement)[::-1]  # reverse complement\n",
    "\n",
    "            if sub_seq == reverse:  # Check if palindrome\n",
    "                Result.append([nuc+1, length])\n",
    "\n",
    "    for pos, length in Result:\n",
    "        print(pos, length)\n",
    "\n",
    "\n",
    "seq = 'TCAATGCATGCGGGTCTATATGCAT'\n",
    "restriction(seq)\n"
   ]
  },
  {
   "cell_type": "code",
   "execution_count": null,
   "metadata": {},
   "outputs": [],
   "source": []
  }
 ],
 "metadata": {
  "kernelspec": {
   "display_name": "Python 3",
   "language": "python",
   "name": "python3"
  },
  "language_info": {
   "codemirror_mode": {
    "name": "ipython",
    "version": 3
   },
   "file_extension": ".py",
   "mimetype": "text/x-python",
   "name": "python",
   "nbconvert_exporter": "python",
   "pygments_lexer": "ipython3",
   "version": "3.11.5"
  }
 },
 "nbformat": 4,
 "nbformat_minor": 2
}
