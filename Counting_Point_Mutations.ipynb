{
 "cells": [
  {
   "cell_type": "markdown",
   "metadata": {},
   "source": [
    "## Counting Point Mutations "
   ]
  },
  {
   "cell_type": "markdown",
   "metadata": {},
   "source": [
    "Problem\n",
    "\n",
    "Figure 2. The Hamming distance between these two strings is 7. Mismatched symbols are colored red.\n",
    "Given two strings s\n",
    " and t\n",
    " of equal length, the Hamming distance between s\n",
    " and t\n",
    ", denoted dH(s,t)\n",
    ", is the number of corresponding symbols that differ in s\n",
    " and t\n",
    "\n",
    "\n",
    "Given: Two DNA strings s\n",
    " and t\n",
    " of equal length (not exceeding 1 kbp).\n",
    "\n",
    "Return: The Hamming distance dH(s,t)\n",
    "."
   ]
  },
  {
   "cell_type": "code",
   "execution_count": 5,
   "metadata": {},
   "outputs": [
    {
     "name": "stdout",
     "output_type": "stream",
     "text": [
      "Point mutations: 7\n"
     ]
    }
   ],
   "source": [
    "seq1 = 'GAGCCTACTAACGGGAT'\n",
    "seq2 = 'CATCGTAATGACGGCCT'\n",
    "\n",
    "count = 0\n",
    "\n",
    "for i in range(len(seq1)):\n",
    "    if seq1[i] != seq2[i]:\n",
    "        count += 1\n",
    "\n",
    "print(f\"Point mutations: {count}\")\n"
   ]
  },
  {
   "cell_type": "code",
   "execution_count": null,
   "metadata": {},
   "outputs": [],
   "source": []
  }
 ],
 "metadata": {
  "kernelspec": {
   "display_name": "Python 3",
   "language": "python",
   "name": "python3"
  },
  "language_info": {
   "codemirror_mode": {
    "name": "ipython",
    "version": 3
   },
   "file_extension": ".py",
   "mimetype": "text/x-python",
   "name": "python",
   "nbconvert_exporter": "python",
   "pygments_lexer": "ipython3",
   "version": "3.11.5"
  }
 },
 "nbformat": 4,
 "nbformat_minor": 2
}
